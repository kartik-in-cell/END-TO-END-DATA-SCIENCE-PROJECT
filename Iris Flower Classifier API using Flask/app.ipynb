{
 "cells": [
  {
   "cell_type": "code",
   "execution_count": 1,
   "id": "3d7eeb6a-8d7e-4dcf-b1ea-68c64b0162ed",
   "metadata": {},
   "outputs": [],
   "source": [
    "#This is your Flask web API file."
   ]
  },
  {
   "cell_type": "code",
   "execution_count": 2,
   "id": "12037f90-bf2c-4cf3-9a1a-74323ca552fe",
   "metadata": {},
   "outputs": [],
   "source": [
    "from flask import Flask, request, jsonify\n",
    "import joblib\n",
    "import numpy as np"
   ]
  },
  {
   "cell_type": "code",
   "execution_count": 3,
   "id": "254f25d6-c390-4610-98c8-b786efe29137",
   "metadata": {},
   "outputs": [],
   "source": [
    "app = Flask(__name__)\n",
    "model = joblib.load(\"model.pkl\")\n",
    "label_encoder = joblib.load(\"label_encoder.pkl\")"
   ]
  },
  {
   "cell_type": "code",
   "execution_count": 4,
   "id": "c715c5a8-3ce0-48fc-8eb2-c81aca534757",
   "metadata": {},
   "outputs": [],
   "source": [
    "@app.route('/')\n",
    "def home():\n",
    "    return \"Iris Flower Prediction API is running!\""
   ]
  },
  {
   "cell_type": "code",
   "execution_count": 5,
   "id": "75a9f999-78ab-45e4-b1e7-5a6ebe3a5f99",
   "metadata": {},
   "outputs": [],
   "source": [
    "@app.route('/predict', methods=['POST'])\n",
    "def predict():\n",
    "    data = request.get_json(force=True)\n",
    "    features = [data['sepal_length'], data['sepal_width'], data['petal_length'], data['petal_width']]\n",
    "    prediction = model.predict([features])[0]\n",
    "    class_name = label_encoder.inverse_transform([prediction])[0]\n",
    "    return jsonify({\"prediction\": class_name})"
   ]
  },
  {
   "cell_type": "code",
   "execution_count": 6,
   "id": "0e2074a7-3fd4-416a-80d7-f7d44cbd9d05",
   "metadata": {},
   "outputs": [
    {
     "name": "stdout",
     "output_type": "stream",
     "text": [
      " * Serving Flask app '__main__'\n",
      " * Debug mode: on\n"
     ]
    },
    {
     "name": "stderr",
     "output_type": "stream",
     "text": [
      "WARNING: This is a development server. Do not use it in a production deployment. Use a production WSGI server instead.\n",
      " * Running on http://127.0.0.1:5000\n",
      "Press CTRL+C to quit\n",
      " * Restarting with watchdog (fsevents)\n",
      "Traceback (most recent call last):\n",
      "  File \"/opt/anaconda3/lib/python3.11/site-packages/ipykernel_launcher.py\", line 15, in <module>\n",
      "    from ipykernel import kernelapp as app\n",
      "  File \"/opt/anaconda3/lib/python3.11/site-packages/ipykernel/__init__.py\", line 7, in <module>\n",
      "    from .connect import *\n",
      "  File \"/opt/anaconda3/lib/python3.11/site-packages/ipykernel/connect.py\", line 12, in <module>\n",
      "    import jupyter_client\n",
      "  File \"/opt/anaconda3/lib/python3.11/site-packages/jupyter_client/__init__.py\", line 3, in <module>\n",
      "    from .asynchronous import AsyncKernelClient\n",
      "  File \"/opt/anaconda3/lib/python3.11/site-packages/jupyter_client/asynchronous/__init__.py\", line 1, in <module>\n",
      "    from .client import AsyncKernelClient  # noqa\n",
      "    ^^^^^^^^^^^^^^^^^^^^^^^^^^^^^^^^^^^^^\n",
      "  File \"/opt/anaconda3/lib/python3.11/site-packages/jupyter_client/asynchronous/client.py\", line 11, in <module>\n",
      "    from ..channels import AsyncZMQSocketChannel, HBChannel\n",
      "  File \"/opt/anaconda3/lib/python3.11/site-packages/jupyter_client/channels.py\", line 12, in <module>\n",
      "    from jupyter_core.utils import ensure_async\n",
      "  File \"/opt/anaconda3/lib/python3.11/site-packages/jupyter_core/utils/__init__.py\", line 13, in <module>\n",
      "    from pathlib import Path\n",
      "  File \"/opt/anaconda3/lib/python3.11/site-packages/pathlib.py\", line 10, in <module>\n",
      "    from collections import Sequence\n",
      "ImportError: cannot import name 'Sequence' from 'collections' (/opt/anaconda3/lib/python3.11/collections/__init__.py)\n"
     ]
    },
    {
     "ename": "SystemExit",
     "evalue": "1",
     "output_type": "error",
     "traceback": [
      "An exception has occurred, use %tb to see the full traceback.\n",
      "\u001b[0;31mSystemExit\u001b[0m\u001b[0;31m:\u001b[0m 1\n"
     ]
    },
    {
     "name": "stderr",
     "output_type": "stream",
     "text": [
      "/opt/anaconda3/lib/python3.11/site-packages/IPython/core/interactiveshell.py:3561: UserWarning: To exit: use 'exit', 'quit', or Ctrl-D.\n",
      "  warn(\"To exit: use 'exit', 'quit', or Ctrl-D.\", stacklevel=1)\n"
     ]
    }
   ],
   "source": [
    "if __name__ == '__main__':\n",
    "    app.run(debug=True)"
   ]
  },
  {
   "cell_type": "code",
   "execution_count": null,
   "id": "eb805b32-b05e-48d3-9a6d-7f5c84644118",
   "metadata": {},
   "outputs": [],
   "source": []
  },
  {
   "cell_type": "code",
   "execution_count": null,
   "id": "6887ccf4-4265-48a2-978c-5d5aa184e4c1",
   "metadata": {},
   "outputs": [],
   "source": []
  },
  {
   "cell_type": "code",
   "execution_count": null,
   "id": "324d6f6e-e828-41ba-a1f3-0ce756e0072a",
   "metadata": {},
   "outputs": [],
   "source": []
  },
  {
   "cell_type": "code",
   "execution_count": null,
   "id": "75d584f1-81f3-49d6-b952-b179857119f2",
   "metadata": {},
   "outputs": [],
   "source": []
  },
  {
   "cell_type": "code",
   "execution_count": null,
   "id": "1ac09c7e-e154-43e7-9e0b-56f97e12c1c4",
   "metadata": {},
   "outputs": [],
   "source": []
  },
  {
   "cell_type": "code",
   "execution_count": null,
   "id": "1c8596bb-068a-494e-9bd2-d8ee1b39a6cb",
   "metadata": {},
   "outputs": [],
   "source": []
  },
  {
   "cell_type": "code",
   "execution_count": null,
   "id": "0884634c-5283-4e72-b2a0-260f16bc9d68",
   "metadata": {},
   "outputs": [],
   "source": []
  }
 ],
 "metadata": {
  "kernelspec": {
   "display_name": "Python 3 (ipykernel)",
   "language": "python",
   "name": "python3"
  },
  "language_info": {
   "codemirror_mode": {
    "name": "ipython",
    "version": 3
   },
   "file_extension": ".py",
   "mimetype": "text/x-python",
   "name": "python",
   "nbconvert_exporter": "python",
   "pygments_lexer": "ipython3",
   "version": "3.11.7"
  }
 },
 "nbformat": 4,
 "nbformat_minor": 5
}
